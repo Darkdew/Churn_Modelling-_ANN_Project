{
  "nbformat": 4,
  "nbformat_minor": 0,
  "metadata": {
    "colab": {
      "name": "Untitled0.ipynb",
      "provenance": [],
      "toc_visible": true,
      "mount_file_id": "1CQh385HhhFq5k507Sd5olXI04b5krbT4",
      "authorship_tag": "ABX9TyNauVEDAUnYSQxnYvil7NGS",
      "include_colab_link": true
    },
    "kernelspec": {
      "name": "python3",
      "display_name": "Python 3"
    },
    "accelerator": "GPU"
  },
  "cells": [
    {
      "cell_type": "markdown",
      "metadata": {
        "id": "view-in-github",
        "colab_type": "text"
      },
      "source": [
        "<a href=\"https://colab.research.google.com/github/Darkdew/Churn_Modelling-_ANN_Project/blob/master/Churn_Modelling.ipynb\" target=\"_parent\"><img src=\"https://colab.research.google.com/assets/colab-badge.svg\" alt=\"Open In Colab\"/></a>"
      ]
    },
    {
      "cell_type": "code",
      "metadata": {
        "id": "Kr8qDYhCV_sa",
        "colab_type": "code",
        "colab": {}
      },
      "source": [
        ""
      ],
      "execution_count": 0,
      "outputs": []
    },
    {
      "cell_type": "code",
      "metadata": {
        "id": "xPOurogAXib1",
        "colab_type": "code",
        "colab": {}
      },
      "source": [
        "from google.colab import drive\n",
        "drive.mount('/content/drive')"
      ],
      "execution_count": 0,
      "outputs": []
    },
    {
      "cell_type": "markdown",
      "metadata": {
        "id": "Qfzuntcms292",
        "colab_type": "text"
      },
      "source": [
        "# **Test whether GPU is working**\n"
      ]
    },
    {
      "cell_type": "code",
      "metadata": {
        "id": "Z2UQ7KsSYRd_",
        "colab_type": "code",
        "colab": {
          "base_uri": "https://localhost:8080/",
          "height": 35
        },
        "outputId": "b6966ca7-7397-4431-ee44-eec9acf393a1"
      },
      "source": [
        "import tensorflow as tf\n",
        "tf.test.gpu_device_name()"
      ],
      "execution_count": 1,
      "outputs": [
        {
          "output_type": "execute_result",
          "data": {
            "text/plain": [
              "'/device:GPU:0'"
            ]
          },
          "metadata": {
            "tags": []
          },
          "execution_count": 1
        }
      ]
    },
    {
      "cell_type": "markdown",
      "metadata": {
        "id": "Tk6rLLVjtTen",
        "colab_type": "text"
      },
      "source": [
        "# **Which GPU are we using**"
      ]
    },
    {
      "cell_type": "code",
      "metadata": {
        "id": "cslO8gemtbga",
        "colab_type": "code",
        "colab": {
          "base_uri": "https://localhost:8080/",
          "height": 505
        },
        "outputId": "07366edf-9e4c-40e5-b5e0-d4b3244497bb"
      },
      "source": [
        "from tensorflow.python.client import device_lib\n",
        "device_lib.list_local_devices()"
      ],
      "execution_count": 1,
      "outputs": [
        {
          "output_type": "execute_result",
          "data": {
            "text/plain": [
              "[name: \"/device:CPU:0\"\n",
              " device_type: \"CPU\"\n",
              " memory_limit: 268435456\n",
              " locality {\n",
              " }\n",
              " incarnation: 16130311104417537659, name: \"/device:XLA_CPU:0\"\n",
              " device_type: \"XLA_CPU\"\n",
              " memory_limit: 17179869184\n",
              " locality {\n",
              " }\n",
              " incarnation: 13638392141159481286\n",
              " physical_device_desc: \"device: XLA_CPU device\", name: \"/device:XLA_GPU:0\"\n",
              " device_type: \"XLA_GPU\"\n",
              " memory_limit: 17179869184\n",
              " locality {\n",
              " }\n",
              " incarnation: 6930206552433464429\n",
              " physical_device_desc: \"device: XLA_GPU device\", name: \"/device:GPU:0\"\n",
              " device_type: \"GPU\"\n",
              " memory_limit: 15701463552\n",
              " locality {\n",
              "   bus_id: 1\n",
              "   links {\n",
              "   }\n",
              " }\n",
              " incarnation: 377622347712288709\n",
              " physical_device_desc: \"device: 0, name: Tesla P100-PCIE-16GB, pci bus id: 0000:00:04.0, compute capability: 6.0\"]"
            ]
          },
          "metadata": {
            "tags": []
          },
          "execution_count": 1
        }
      ]
    },
    {
      "cell_type": "code",
      "metadata": {
        "id": "-uy4HeHWpx5U",
        "colab_type": "code",
        "colab": {
          "base_uri": "https://localhost:8080/",
          "height": 832
        },
        "outputId": "c2a3ae66-0c60-4932-ba39-698aa3595398"
      },
      "source": [
        "# For RAM Information\n",
        "!cat /proc/meminfo"
      ],
      "execution_count": 1,
      "outputs": [
        {
          "output_type": "stream",
          "text": [
            "MemTotal:       13333540 kB\n",
            "MemFree:        10470380 kB\n",
            "MemAvailable:   12456620 kB\n",
            "Buffers:           75408 kB\n",
            "Cached:          2067960 kB\n",
            "SwapCached:            0 kB\n",
            "Active:           737200 kB\n",
            "Inactive:        1843444 kB\n",
            "Active(anon):     416484 kB\n",
            "Inactive(anon):      336 kB\n",
            "Active(file):     320716 kB\n",
            "Inactive(file):  1843108 kB\n",
            "Unevictable:           0 kB\n",
            "Mlocked:               0 kB\n",
            "SwapTotal:             0 kB\n",
            "SwapFree:              0 kB\n",
            "Dirty:              2624 kB\n",
            "Writeback:             0 kB\n",
            "AnonPages:        437268 kB\n",
            "Mapped:           245716 kB\n",
            "Shmem:               952 kB\n",
            "Slab:             166708 kB\n",
            "SReclaimable:     126800 kB\n",
            "SUnreclaim:        39908 kB\n",
            "KernelStack:        4128 kB\n",
            "PageTables:         5952 kB\n",
            "NFS_Unstable:          0 kB\n",
            "Bounce:                0 kB\n",
            "WritebackTmp:          0 kB\n",
            "CommitLimit:     6666768 kB\n",
            "Committed_AS:    2803764 kB\n",
            "VmallocTotal:   34359738367 kB\n",
            "VmallocUsed:           0 kB\n",
            "VmallocChunk:          0 kB\n",
            "Percpu:              920 kB\n",
            "AnonHugePages:         0 kB\n",
            "ShmemHugePages:        0 kB\n",
            "ShmemPmdMapped:        0 kB\n",
            "HugePages_Total:       0\n",
            "HugePages_Free:        0\n",
            "HugePages_Rsvd:        0\n",
            "HugePages_Surp:        0\n",
            "Hugepagesize:       2048 kB\n",
            "Hugetlb:               0 kB\n",
            "DirectMap4k:      107708 kB\n",
            "DirectMap2M:     5134336 kB\n",
            "DirectMap1G:    10485760 kB\n"
          ],
          "name": "stdout"
        }
      ]
    },
    {
      "cell_type": "code",
      "metadata": {
        "id": "UGwTiuAprH8t",
        "colab_type": "code",
        "colab": {}
      },
      "source": [
        "!pip install -q keras"
      ],
      "execution_count": 0,
      "outputs": []
    },
    {
      "cell_type": "code",
      "metadata": {
        "id": "lkoVW944rh4k",
        "colab_type": "code",
        "colab": {
          "base_uri": "https://localhost:8080/",
          "height": 1000
        },
        "outputId": "c34c700e-8d62-4d16-ebcf-eb5ba2703cd9"
      },
      "source": [
        "\n",
        "import pandas as pd\n",
        "import numpy as np\n",
        "import matplotlib.pyplot as plt\n",
        "import seaborn as sns\n",
        "\n",
        "df= pd.read_csv('/content/drive/My Drive/Colab Notebooks/Churn_Modelling.csv')\n",
        "X= df.iloc[:, 3:13]\n",
        "y= df.iloc[:, 13]\n",
        "\n",
        "#Create Dummy variables for categorical features\n",
        "geography= pd.get_dummies(X['Geography'], drop_first= True)\n",
        "gender= pd.get_dummies(X['Gender'], drop_first=True)\n",
        "\n",
        "#concatenate the dummy columns to the df X\n",
        "X = pd.concat([X, geography, gender], axis= 1)\n",
        "\n",
        "#we can drop the original categorical columns\n",
        "X= X.drop(['Gender', 'Geography'], axis=1)\n",
        "\n",
        "#Splitting dataset into train and test set\n",
        "from sklearn.model_selection import train_test_split\n",
        "X_train, X_test, y_train, y_test= train_test_split(X,y, test_size=0.2, random_state= 0)\n",
        "\n",
        "#Scaling our Features\n",
        "from sklearn.preprocessing import StandardScaler\n",
        "ss= StandardScaler()\n",
        "X_train= ss.fit_transform(X_train)\n",
        "X_test= ss.transform(X_test)\n",
        "\n",
        "\n",
        "\n",
        "#Time for ANN creation\n",
        "\n",
        "import keras\n",
        "from keras.models import Sequential\n",
        "from keras.layers import Dense\n",
        "from keras.layers import LeakyReLU,PReLU, ELU\n",
        "from keras.layers import Dropout\n",
        "\n",
        "#ANN Initialisation\n",
        "classifier2 = Sequential()\n",
        "\n",
        "\n",
        "#Defining the first hidden layer and adding the input layer as well\n",
        "classifier2.add(Dense(units=6, kernel_initializer='he_uniform', activation='relu', input_dim=11))\n",
        "classifier2.add(Dropout(0.3))\n",
        "#adding another hidden layer with 6 neurons\n",
        "classifier2.add(Dense(units=6, kernel_initializer='he_uniform', activation='relu'))\n",
        "classifier2.add(Dropout(0.2))\n",
        "#adding the output layer\n",
        "classifier2.add(Dense(units=1, kernel_initializer='glorot_uniform', activation= 'sigmoid'))\n",
        "\n",
        "#Compiling our ANN\n",
        "classifier2.compile(optimizer='Adamax', loss= 'binary_crossentropy', metrics=['accuracy'])\n",
        "\n",
        "classifier2.summary()\n",
        "\n",
        "#Fitting our ANN to the training set\n",
        "model0= classifier2.fit(X_train, y_train, validation_split= 0.33, batch_size=10, nb_epoch=100)\n",
        "\n",
        "#listing all data in our model0\n",
        "print(model0.history.keys())\n",
        "\n",
        "#Summarize model for accuracy\n",
        "plt.plot(model0.history['accuracy'])\n",
        "plt.plot(model0.history['val_accuracy'])\n",
        "\n",
        "plt.title('MODEL ACCURACY')\n",
        "plt.xlabel('epochs')\n",
        "plt.ylabel('accuracy')\n",
        "plt.legend(['train', 'test'], loc= 'upper right')\n",
        "plt.show()\n",
        "\n",
        "#Summarize model for Loss\n",
        "plt.plot(model0.history['loss'])\n",
        "plt.plot(model0.history['val_loss'])\n",
        "plt.title('MODEL LOSS')\n",
        "plt.xlabel('epochs')\n",
        "plt.ylabel('loss')\n",
        "plt.legend(['train', 'test'])\n",
        "plt.show()\n",
        "\n",
        "\n",
        "#Prediction and MODEL Evaluation\n",
        "\n",
        "#predicting the test set results\n",
        "y_pred= classifier2.predict(X_test)\n",
        "y_pred= (y_pred > 0.5)\n",
        "\n",
        "#Drawing Confusion Matrix\n",
        "from sklearn.metrics import confusion_matrix\n",
        "cm= confusion_matrix(y_test, y_pred)\n",
        "\n",
        "#calculate the accuracy\n",
        "from sklearn.metrics import accuracy_score\n",
        "score= accuracy_score(y_pred, y_test)\n",
        "\n",
        "print(score)"
      ],
      "execution_count": 3,
      "outputs": [
        {
          "output_type": "stream",
          "text": [
            "/usr/local/lib/python3.6/dist-packages/statsmodels/tools/_testing.py:19: FutureWarning: pandas.util.testing is deprecated. Use the functions in the public API at pandas.testing instead.\n",
            "  import pandas.util.testing as tm\n",
            "Using TensorFlow backend.\n"
          ],
          "name": "stderr"
        },
        {
          "output_type": "stream",
          "text": [
            "Model: \"sequential_1\"\n",
            "_________________________________________________________________\n",
            "Layer (type)                 Output Shape              Param #   \n",
            "=================================================================\n",
            "dense_1 (Dense)              (None, 6)                 72        \n",
            "_________________________________________________________________\n",
            "dropout_1 (Dropout)          (None, 6)                 0         \n",
            "_________________________________________________________________\n",
            "dense_2 (Dense)              (None, 6)                 42        \n",
            "_________________________________________________________________\n",
            "dropout_2 (Dropout)          (None, 6)                 0         \n",
            "_________________________________________________________________\n",
            "dense_3 (Dense)              (None, 1)                 7         \n",
            "=================================================================\n",
            "Total params: 121\n",
            "Trainable params: 121\n",
            "Non-trainable params: 0\n",
            "_________________________________________________________________\n"
          ],
          "name": "stdout"
        },
        {
          "output_type": "stream",
          "text": [
            "/usr/local/lib/python3.6/dist-packages/ipykernel_launcher.py:60: UserWarning: The `nb_epoch` argument in `fit` has been renamed `epochs`.\n"
          ],
          "name": "stderr"
        },
        {
          "output_type": "stream",
          "text": [
            "Train on 5359 samples, validate on 2641 samples\n",
            "Epoch 1/100\n",
            "5359/5359 [==============================] - 5s 905us/step - loss: 0.5643 - accuracy: 0.7862 - val_loss: 0.4985 - val_accuracy: 0.7955\n",
            "Epoch 2/100\n",
            "5359/5359 [==============================] - 3s 555us/step - loss: 0.5285 - accuracy: 0.7893 - val_loss: 0.4829 - val_accuracy: 0.7955\n",
            "Epoch 3/100\n",
            "5359/5359 [==============================] - 3s 569us/step - loss: 0.4978 - accuracy: 0.7934 - val_loss: 0.4725 - val_accuracy: 0.7955\n",
            "Epoch 4/100\n",
            "5359/5359 [==============================] - 3s 579us/step - loss: 0.4954 - accuracy: 0.7940 - val_loss: 0.4680 - val_accuracy: 0.7955\n",
            "Epoch 5/100\n",
            "5359/5359 [==============================] - 3s 570us/step - loss: 0.4882 - accuracy: 0.7947 - val_loss: 0.4633 - val_accuracy: 0.7955\n",
            "Epoch 6/100\n",
            "5359/5359 [==============================] - 3s 571us/step - loss: 0.4805 - accuracy: 0.7957 - val_loss: 0.4603 - val_accuracy: 0.7955\n",
            "Epoch 7/100\n",
            "5359/5359 [==============================] - 3s 579us/step - loss: 0.4752 - accuracy: 0.7959 - val_loss: 0.4574 - val_accuracy: 0.7955\n",
            "Epoch 8/100\n",
            "5359/5359 [==============================] - 3s 588us/step - loss: 0.4698 - accuracy: 0.7959 - val_loss: 0.4546 - val_accuracy: 0.7955\n",
            "Epoch 9/100\n",
            "5359/5359 [==============================] - 3s 547us/step - loss: 0.4683 - accuracy: 0.7962 - val_loss: 0.4530 - val_accuracy: 0.7955\n",
            "Epoch 10/100\n",
            "5359/5359 [==============================] - 3s 567us/step - loss: 0.4687 - accuracy: 0.7962 - val_loss: 0.4509 - val_accuracy: 0.7955\n",
            "Epoch 11/100\n",
            "5359/5359 [==============================] - 3s 546us/step - loss: 0.4642 - accuracy: 0.7962 - val_loss: 0.4492 - val_accuracy: 0.7955\n",
            "Epoch 12/100\n",
            "5359/5359 [==============================] - 3s 552us/step - loss: 0.4627 - accuracy: 0.7962 - val_loss: 0.4476 - val_accuracy: 0.7955\n",
            "Epoch 13/100\n",
            "5359/5359 [==============================] - 3s 572us/step - loss: 0.4592 - accuracy: 0.7962 - val_loss: 0.4463 - val_accuracy: 0.7955\n",
            "Epoch 14/100\n",
            "5359/5359 [==============================] - 3s 561us/step - loss: 0.4551 - accuracy: 0.7962 - val_loss: 0.4445 - val_accuracy: 0.7955\n",
            "Epoch 15/100\n",
            "5359/5359 [==============================] - 3s 564us/step - loss: 0.4602 - accuracy: 0.7962 - val_loss: 0.4445 - val_accuracy: 0.7955\n",
            "Epoch 16/100\n",
            "5359/5359 [==============================] - 3s 526us/step - loss: 0.4571 - accuracy: 0.7962 - val_loss: 0.4436 - val_accuracy: 0.7955\n",
            "Epoch 17/100\n",
            "5359/5359 [==============================] - 3s 517us/step - loss: 0.4543 - accuracy: 0.7962 - val_loss: 0.4427 - val_accuracy: 0.7955\n",
            "Epoch 18/100\n",
            "5359/5359 [==============================] - 3s 529us/step - loss: 0.4564 - accuracy: 0.7962 - val_loss: 0.4417 - val_accuracy: 0.7955\n",
            "Epoch 19/100\n",
            "5359/5359 [==============================] - 3s 516us/step - loss: 0.4507 - accuracy: 0.7962 - val_loss: 0.4407 - val_accuracy: 0.7955\n",
            "Epoch 20/100\n",
            "5359/5359 [==============================] - 3s 516us/step - loss: 0.4475 - accuracy: 0.7962 - val_loss: 0.4394 - val_accuracy: 0.7955\n",
            "Epoch 21/100\n",
            "5359/5359 [==============================] - 3s 517us/step - loss: 0.4535 - accuracy: 0.7962 - val_loss: 0.4386 - val_accuracy: 0.7955\n",
            "Epoch 22/100\n",
            "5359/5359 [==============================] - 3s 521us/step - loss: 0.4504 - accuracy: 0.7962 - val_loss: 0.4381 - val_accuracy: 0.7955\n",
            "Epoch 23/100\n",
            "5359/5359 [==============================] - 3s 505us/step - loss: 0.4480 - accuracy: 0.7962 - val_loss: 0.4371 - val_accuracy: 0.7955\n",
            "Epoch 24/100\n",
            "5359/5359 [==============================] - 3s 516us/step - loss: 0.4507 - accuracy: 0.7962 - val_loss: 0.4374 - val_accuracy: 0.7955\n",
            "Epoch 25/100\n",
            "5359/5359 [==============================] - 3s 517us/step - loss: 0.4494 - accuracy: 0.7962 - val_loss: 0.4366 - val_accuracy: 0.7955\n",
            "Epoch 26/100\n",
            "5359/5359 [==============================] - 3s 522us/step - loss: 0.4450 - accuracy: 0.7962 - val_loss: 0.4349 - val_accuracy: 0.7955\n",
            "Epoch 27/100\n",
            "5359/5359 [==============================] - 3s 524us/step - loss: 0.4421 - accuracy: 0.7962 - val_loss: 0.4336 - val_accuracy: 0.7955\n",
            "Epoch 28/100\n",
            "5359/5359 [==============================] - 3s 517us/step - loss: 0.4435 - accuracy: 0.7962 - val_loss: 0.4331 - val_accuracy: 0.7955\n",
            "Epoch 29/100\n",
            "5359/5359 [==============================] - 3s 529us/step - loss: 0.4427 - accuracy: 0.7962 - val_loss: 0.4318 - val_accuracy: 0.7955\n",
            "Epoch 30/100\n",
            "5359/5359 [==============================] - 3s 515us/step - loss: 0.4451 - accuracy: 0.7962 - val_loss: 0.4318 - val_accuracy: 0.7955\n",
            "Epoch 31/100\n",
            "5359/5359 [==============================] - 3s 512us/step - loss: 0.4457 - accuracy: 0.7962 - val_loss: 0.4314 - val_accuracy: 0.7955\n",
            "Epoch 32/100\n",
            "5359/5359 [==============================] - 3s 515us/step - loss: 0.4453 - accuracy: 0.7962 - val_loss: 0.4307 - val_accuracy: 0.7955\n",
            "Epoch 33/100\n",
            "5359/5359 [==============================] - 3s 511us/step - loss: 0.4437 - accuracy: 0.7962 - val_loss: 0.4310 - val_accuracy: 0.7955\n",
            "Epoch 34/100\n",
            "5359/5359 [==============================] - 3s 504us/step - loss: 0.4392 - accuracy: 0.7962 - val_loss: 0.4286 - val_accuracy: 0.7955\n",
            "Epoch 35/100\n",
            "5359/5359 [==============================] - 3s 514us/step - loss: 0.4367 - accuracy: 0.7962 - val_loss: 0.4266 - val_accuracy: 0.7955\n",
            "Epoch 36/100\n",
            "5359/5359 [==============================] - 3s 543us/step - loss: 0.4385 - accuracy: 0.7962 - val_loss: 0.4269 - val_accuracy: 0.7955\n",
            "Epoch 37/100\n",
            "5359/5359 [==============================] - 3s 568us/step - loss: 0.4401 - accuracy: 0.7962 - val_loss: 0.4273 - val_accuracy: 0.7955\n",
            "Epoch 38/100\n",
            "5359/5359 [==============================] - 3s 557us/step - loss: 0.4404 - accuracy: 0.7962 - val_loss: 0.4267 - val_accuracy: 0.7955\n",
            "Epoch 39/100\n",
            "5359/5359 [==============================] - 3s 537us/step - loss: 0.4355 - accuracy: 0.7962 - val_loss: 0.4264 - val_accuracy: 0.7955\n",
            "Epoch 40/100\n",
            "5359/5359 [==============================] - 3s 524us/step - loss: 0.4361 - accuracy: 0.7962 - val_loss: 0.4244 - val_accuracy: 0.7955\n",
            "Epoch 41/100\n",
            "5359/5359 [==============================] - 3s 579us/step - loss: 0.4359 - accuracy: 0.7962 - val_loss: 0.4241 - val_accuracy: 0.7955\n",
            "Epoch 42/100\n",
            "5359/5359 [==============================] - 3s 594us/step - loss: 0.4354 - accuracy: 0.7962 - val_loss: 0.4247 - val_accuracy: 0.7955\n",
            "Epoch 43/100\n",
            "5359/5359 [==============================] - 3s 581us/step - loss: 0.4328 - accuracy: 0.7962 - val_loss: 0.4225 - val_accuracy: 0.7955\n",
            "Epoch 44/100\n",
            "5359/5359 [==============================] - 3s 609us/step - loss: 0.4328 - accuracy: 0.7962 - val_loss: 0.4216 - val_accuracy: 0.7955\n",
            "Epoch 45/100\n",
            "5359/5359 [==============================] - 3s 576us/step - loss: 0.4306 - accuracy: 0.7962 - val_loss: 0.4216 - val_accuracy: 0.7955\n",
            "Epoch 46/100\n",
            "5359/5359 [==============================] - 3s 573us/step - loss: 0.4310 - accuracy: 0.7962 - val_loss: 0.4214 - val_accuracy: 0.7955\n",
            "Epoch 47/100\n",
            "5359/5359 [==============================] - 3s 587us/step - loss: 0.4298 - accuracy: 0.7962 - val_loss: 0.4209 - val_accuracy: 0.7955\n",
            "Epoch 48/100\n",
            "5359/5359 [==============================] - 3s 639us/step - loss: 0.4295 - accuracy: 0.7962 - val_loss: 0.4190 - val_accuracy: 0.7955\n",
            "Epoch 49/100\n",
            "5359/5359 [==============================] - 3s 617us/step - loss: 0.4247 - accuracy: 0.7962 - val_loss: 0.4173 - val_accuracy: 0.7955\n",
            "Epoch 50/100\n",
            "5359/5359 [==============================] - 3s 594us/step - loss: 0.4288 - accuracy: 0.7962 - val_loss: 0.4173 - val_accuracy: 0.7955\n",
            "Epoch 51/100\n",
            "5359/5359 [==============================] - 3s 577us/step - loss: 0.4270 - accuracy: 0.7962 - val_loss: 0.4155 - val_accuracy: 0.7955\n",
            "Epoch 52/100\n",
            "5359/5359 [==============================] - 3s 578us/step - loss: 0.4268 - accuracy: 0.7962 - val_loss: 0.4166 - val_accuracy: 0.7955\n",
            "Epoch 53/100\n",
            "5359/5359 [==============================] - 3s 572us/step - loss: 0.4250 - accuracy: 0.7962 - val_loss: 0.4140 - val_accuracy: 0.7955\n",
            "Epoch 54/100\n",
            "5359/5359 [==============================] - 3s 567us/step - loss: 0.4258 - accuracy: 0.7962 - val_loss: 0.4164 - val_accuracy: 0.7955\n",
            "Epoch 55/100\n",
            "5359/5359 [==============================] - 3s 589us/step - loss: 0.4279 - accuracy: 0.7962 - val_loss: 0.4164 - val_accuracy: 0.7955\n",
            "Epoch 56/100\n",
            "5359/5359 [==============================] - 3s 570us/step - loss: 0.4294 - accuracy: 0.7962 - val_loss: 0.4159 - val_accuracy: 0.7955\n",
            "Epoch 57/100\n",
            "5359/5359 [==============================] - 3s 582us/step - loss: 0.4168 - accuracy: 0.7962 - val_loss: 0.4136 - val_accuracy: 0.7955\n",
            "Epoch 58/100\n",
            "5359/5359 [==============================] - 3s 559us/step - loss: 0.4228 - accuracy: 0.7962 - val_loss: 0.4140 - val_accuracy: 0.7955\n",
            "Epoch 59/100\n",
            "5359/5359 [==============================] - 3s 578us/step - loss: 0.4264 - accuracy: 0.7962 - val_loss: 0.4107 - val_accuracy: 0.7955\n",
            "Epoch 60/100\n",
            "5359/5359 [==============================] - 3s 562us/step - loss: 0.4188 - accuracy: 0.7962 - val_loss: 0.4100 - val_accuracy: 0.7955\n",
            "Epoch 61/100\n",
            "5359/5359 [==============================] - 3s 562us/step - loss: 0.4187 - accuracy: 0.7962 - val_loss: 0.4092 - val_accuracy: 0.7955\n",
            "Epoch 62/100\n",
            "5359/5359 [==============================] - 3s 573us/step - loss: 0.4186 - accuracy: 0.7962 - val_loss: 0.4078 - val_accuracy: 0.7955\n",
            "Epoch 63/100\n",
            "5359/5359 [==============================] - 3s 582us/step - loss: 0.4172 - accuracy: 0.7962 - val_loss: 0.4088 - val_accuracy: 0.7955\n",
            "Epoch 64/100\n",
            "5359/5359 [==============================] - 3s 586us/step - loss: 0.4197 - accuracy: 0.7962 - val_loss: 0.4064 - val_accuracy: 0.7955\n",
            "Epoch 65/100\n",
            "5359/5359 [==============================] - 3s 558us/step - loss: 0.4167 - accuracy: 0.7962 - val_loss: 0.4083 - val_accuracy: 0.7955\n",
            "Epoch 66/100\n",
            "5359/5359 [==============================] - 3s 584us/step - loss: 0.4157 - accuracy: 0.7962 - val_loss: 0.4060 - val_accuracy: 0.7955\n",
            "Epoch 67/100\n",
            "5359/5359 [==============================] - 3s 581us/step - loss: 0.4222 - accuracy: 0.7962 - val_loss: 0.4078 - val_accuracy: 0.7955\n",
            "Epoch 68/100\n",
            "5359/5359 [==============================] - 3s 579us/step - loss: 0.4149 - accuracy: 0.7962 - val_loss: 0.4069 - val_accuracy: 0.7955\n",
            "Epoch 69/100\n",
            "5359/5359 [==============================] - 3s 579us/step - loss: 0.4217 - accuracy: 0.7962 - val_loss: 0.4093 - val_accuracy: 0.7955\n",
            "Epoch 70/100\n",
            "5359/5359 [==============================] - 3s 561us/step - loss: 0.4219 - accuracy: 0.7962 - val_loss: 0.4076 - val_accuracy: 0.7955\n",
            "Epoch 71/100\n",
            "5359/5359 [==============================] - 3s 576us/step - loss: 0.4169 - accuracy: 0.7962 - val_loss: 0.4057 - val_accuracy: 0.7955\n",
            "Epoch 72/100\n",
            "5359/5359 [==============================] - 3s 548us/step - loss: 0.4171 - accuracy: 0.7962 - val_loss: 0.4050 - val_accuracy: 0.7955\n",
            "Epoch 73/100\n",
            "5359/5359 [==============================] - 3s 571us/step - loss: 0.4294 - accuracy: 0.7962 - val_loss: 0.4121 - val_accuracy: 0.7955\n",
            "Epoch 74/100\n",
            "5359/5359 [==============================] - 3s 545us/step - loss: 0.4175 - accuracy: 0.7962 - val_loss: 0.4050 - val_accuracy: 0.7955\n",
            "Epoch 75/100\n",
            "5359/5359 [==============================] - 3s 524us/step - loss: 0.4181 - accuracy: 0.7962 - val_loss: 0.4027 - val_accuracy: 0.7955\n",
            "Epoch 76/100\n",
            "5359/5359 [==============================] - 3s 513us/step - loss: 0.4165 - accuracy: 0.7962 - val_loss: 0.4038 - val_accuracy: 0.7955\n",
            "Epoch 77/100\n",
            "5359/5359 [==============================] - 3s 533us/step - loss: 0.4109 - accuracy: 0.7962 - val_loss: 0.4012 - val_accuracy: 0.7955\n",
            "Epoch 78/100\n",
            "5359/5359 [==============================] - 3s 519us/step - loss: 0.4124 - accuracy: 0.7962 - val_loss: 0.4000 - val_accuracy: 0.7955\n",
            "Epoch 79/100\n",
            "5359/5359 [==============================] - 3s 526us/step - loss: 0.4204 - accuracy: 0.7962 - val_loss: 0.4039 - val_accuracy: 0.7955\n",
            "Epoch 80/100\n",
            "5359/5359 [==============================] - 3s 541us/step - loss: 0.4179 - accuracy: 0.8028 - val_loss: 0.4013 - val_accuracy: 0.7955\n",
            "Epoch 81/100\n",
            "5359/5359 [==============================] - 3s 548us/step - loss: 0.4152 - accuracy: 0.7962 - val_loss: 0.4013 - val_accuracy: 0.7955\n",
            "Epoch 82/100\n",
            "5359/5359 [==============================] - 3s 527us/step - loss: 0.4212 - accuracy: 0.7979 - val_loss: 0.4039 - val_accuracy: 0.7955\n",
            "Epoch 83/100\n",
            "5359/5359 [==============================] - 3s 529us/step - loss: 0.4187 - accuracy: 0.7979 - val_loss: 0.4053 - val_accuracy: 0.7955\n",
            "Epoch 84/100\n",
            "5359/5359 [==============================] - 3s 524us/step - loss: 0.4117 - accuracy: 0.8110 - val_loss: 0.3995 - val_accuracy: 0.7955\n",
            "Epoch 85/100\n",
            "5359/5359 [==============================] - 3s 514us/step - loss: 0.4181 - accuracy: 0.8244 - val_loss: 0.4033 - val_accuracy: 0.8421\n",
            "Epoch 86/100\n",
            "5359/5359 [==============================] - 3s 530us/step - loss: 0.4158 - accuracy: 0.8248 - val_loss: 0.4055 - val_accuracy: 0.8425\n",
            "Epoch 87/100\n",
            "5359/5359 [==============================] - 3s 517us/step - loss: 0.4173 - accuracy: 0.8313 - val_loss: 0.4013 - val_accuracy: 0.8425\n",
            "Epoch 88/100\n",
            "5359/5359 [==============================] - 3s 522us/step - loss: 0.4167 - accuracy: 0.8341 - val_loss: 0.4011 - val_accuracy: 0.8421\n",
            "Epoch 89/100\n",
            "5359/5359 [==============================] - 3s 564us/step - loss: 0.4142 - accuracy: 0.8244 - val_loss: 0.4071 - val_accuracy: 0.8436\n",
            "Epoch 90/100\n",
            "5359/5359 [==============================] - 3s 590us/step - loss: 0.4204 - accuracy: 0.8339 - val_loss: 0.4043 - val_accuracy: 0.8417\n",
            "Epoch 91/100\n",
            "5359/5359 [==============================] - 3s 576us/step - loss: 0.4185 - accuracy: 0.8317 - val_loss: 0.4056 - val_accuracy: 0.8141\n",
            "Epoch 92/100\n",
            "5359/5359 [==============================] - 3s 597us/step - loss: 0.4096 - accuracy: 0.8319 - val_loss: 0.4046 - val_accuracy: 0.8421\n",
            "Epoch 93/100\n",
            "5359/5359 [==============================] - 3s 552us/step - loss: 0.4157 - accuracy: 0.8285 - val_loss: 0.4027 - val_accuracy: 0.8421\n",
            "Epoch 94/100\n",
            "5359/5359 [==============================] - 3s 540us/step - loss: 0.4132 - accuracy: 0.8313 - val_loss: 0.4027 - val_accuracy: 0.8455\n",
            "Epoch 95/100\n",
            "5359/5359 [==============================] - 3s 538us/step - loss: 0.4204 - accuracy: 0.8380 - val_loss: 0.4063 - val_accuracy: 0.8440\n",
            "Epoch 96/100\n",
            "5359/5359 [==============================] - 3s 583us/step - loss: 0.4175 - accuracy: 0.8371 - val_loss: 0.4041 - val_accuracy: 0.8436\n",
            "Epoch 97/100\n",
            "5359/5359 [==============================] - 3s 573us/step - loss: 0.4125 - accuracy: 0.8378 - val_loss: 0.4000 - val_accuracy: 0.8440\n",
            "Epoch 98/100\n",
            "5359/5359 [==============================] - 3s 528us/step - loss: 0.4206 - accuracy: 0.8326 - val_loss: 0.3981 - val_accuracy: 0.8444\n",
            "Epoch 99/100\n",
            "5359/5359 [==============================] - 3s 552us/step - loss: 0.4078 - accuracy: 0.8399 - val_loss: 0.3972 - val_accuracy: 0.8444\n",
            "Epoch 100/100\n",
            "5359/5359 [==============================] - 3s 515us/step - loss: 0.4108 - accuracy: 0.8354 - val_loss: 0.3932 - val_accuracy: 0.8451\n",
            "dict_keys(['val_loss', 'val_accuracy', 'loss', 'accuracy'])\n"
          ],
          "name": "stdout"
        },
        {
          "output_type": "display_data",
          "data": {
            "image/png": "[encoded data removed]",
            "text/plain": [
              "<Figure size 432x288 with 1 Axes>"
            ]
          },
          "metadata": {
            "tags": [],
            "needs_background": "light"
          }
        },
        {
          "output_type": "display_data",
          "data": {
            "image/png": "[encoded data removed]",
            "text/plain": [
              "<Figure size 432x288 with 1 Axes>"
            ]
          },
          "metadata": {
            "tags": [],
            "needs_background": "light"
          }
        },
        {
          "output_type": "stream",
          "text": [
            "0.8615\n"
          ],
          "name": "stdout"
        }
      ]
    }
  ]
}